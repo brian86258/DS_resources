{
 "cells": [
  {
   "cell_type": "markdown",
   "metadata": {},
   "source": [
    "# In this homework, I will preprocess some illegal data in my original dataset\n",
    "# Due the original dataset dosen't contain NaN, Null. So I randomly add some of these problematic conditions in original dataset\n",
    "\n",
    "## Start preprocess"
   ]
  },
  {
   "cell_type": "code",
   "execution_count": 1,
   "metadata": {},
   "outputs": [],
   "source": [
    "import pandas as pd\n",
    "import numpy as np\n",
    "import matplotlib.pyplot as plt"
   ]
  },
  {
   "cell_type": "code",
   "execution_count": 34,
   "metadata": {},
   "outputs": [
    {
     "name": "stdout",
     "output_type": "stream",
     "text": [
      "The shape of this original dataset is (205, 26)\n",
      "symboling             0\n",
      "normalized-losses     7\n",
      "make                  0\n",
      "fuel-type             0\n",
      "aspiration            0\n",
      "num-of-doors          5\n",
      "body-style            0\n",
      "drive-wheels          0\n",
      "engine-location       0\n",
      "wheel-base            0\n",
      "length                0\n",
      "width                 0\n",
      "height                0\n",
      "curb-weight          13\n",
      "engine-type           0\n",
      "num-of-cylinders      0\n",
      "engine-size           0\n",
      "fuel-system           0\n",
      "bore                  0\n",
      "stroke                0\n",
      "compression-ratio     0\n",
      "horsepower            0\n",
      "peak-rpm              0\n",
      "city-mpg              0\n",
      "highway-mpg           0\n",
      "price                 0\n",
      "dtype: int64\n"
     ]
    }
   ],
   "source": [
    "raw_data=pd.read_csv('Automobile_data.csv')\n",
    "print(\"The shape of this original dataset is {}\".format(raw_data.shape))\n",
    "# print(raw_data.head())\n",
    "# print(raw_data.info())\n",
    "\n",
    "print(raw_data.isnull().sum())"
   ]
  },
  {
   "cell_type": "markdown",
   "metadata": {},
   "source": [
    "# Though the original dataset doesn't contain Null ,NaN. However it does contain quite a few '?' data, which means nothing useful as well.\n",
    "\n",
    "## Following I will replace the '?' data with Nan. So that I can easily locate them."
   ]
  },
  {
   "cell_type": "code",
   "execution_count": 35,
   "metadata": {},
   "outputs": [
    {
     "name": "stdout",
     "output_type": "stream",
     "text": [
      "symboling             0\n",
      "normalized-losses    48\n",
      "make                  0\n",
      "fuel-type             0\n",
      "aspiration            0\n",
      "num-of-doors          8\n",
      "body-style            0\n",
      "drive-wheels          0\n",
      "engine-location       0\n",
      "wheel-base            0\n",
      "length                0\n",
      "width                 0\n",
      "height                0\n",
      "curb-weight          13\n",
      "engine-type           0\n",
      "num-of-cylinders      4\n",
      "engine-size           0\n",
      "fuel-system           0\n",
      "bore                  4\n",
      "stroke                4\n",
      "compression-ratio     0\n",
      "horsepower            2\n",
      "peak-rpm              2\n",
      "city-mpg              0\n",
      "highway-mpg           0\n",
      "price                 4\n",
      "dtype: int64\n"
     ]
    }
   ],
   "source": [
    "raw_data=raw_data.replace('?',np.NaN)\n",
    "print(raw_data.isnull().sum())"
   ]
  },
  {
   "cell_type": "markdown",
   "metadata": {},
   "source": [
    "# And from the above analysis, we can find the features that needed to be modifeid. \n",
    "## {'normalized-losses', 'num-of-doors', 'curb-weight', 'num-of-clinders', 'bore', 'stroke' , 'horsepower' , 'peak-rpm' , 'price'}\n",
    "\n",
    "---\n",
    "Firstly, we deal with the normalized-losses"
   ]
  },
  {
   "cell_type": "code",
   "execution_count": 40,
   "metadata": {},
   "outputs": [
    {
     "name": "stdout",
     "output_type": "stream",
     "text": [
      "Int64Index([], dtype='int64')\n",
      "Int64Index([  0,   1,   2,   5,   7,   9,  14,  15,  16,  17,  43,  44,  45,\n",
      "             46,  48,  49,  55,  63,  66,  71,  73,  74,  75,  82,  83,  84,\n",
      "             99, 103, 109, 110, 113, 114, 124, 126, 127, 128, 129, 130, 131,\n",
      "            139, 146, 154, 181, 189, 191, 192, 193, 203],\n",
      "           dtype='int64')\n"
     ]
    }
   ],
   "source": [
    "wrong=raw_data[raw_data['normalized-losses']=='?']\n",
    "empty=raw_data[raw_data['normalized-losses'].isnull()]\n",
    "print(wrong.index)\n",
    "print(empty.index)"
   ]
  },
  {
   "cell_type": "markdown",
   "metadata": {},
   "source": [
    " ### We can firstly where are these null data. And then I choose to replace the empty data with the mean value of other non-empty data."
   ]
  },
  {
   "cell_type": "code",
   "execution_count": 41,
   "metadata": {},
   "outputs": [
    {
     "name": "stdout",
     "output_type": "stream",
     "text": [
      "123.0\n",
      "Int64Index([], dtype='int64')\n"
     ]
    }
   ],
   "source": [
    "a=raw_data[raw_data['normalized-losses'].notnull()]\n",
    "b=(a['normalized-losses'].astype(int)).mean()\n",
    "print(round(b))\n",
    "raw_data['normalized-losses'].fillna(round(b),inplace=True)\n",
    "\n",
    "empty=raw_data[raw_data['normalized-losses'].isnull()]\n",
    "print(empty.index)"
   ]
  },
  {
   "cell_type": "markdown",
   "metadata": {},
   "source": [
    "### And we can double check and find that there are no empty data in the ['normalized-losses']\n",
    "---\n",
    "### Then we move on to the 'num-of-doors' "
   ]
  },
  {
   "cell_type": "code",
   "execution_count": 42,
   "metadata": {},
   "outputs": [
    {
     "name": "stdout",
     "output_type": "stream",
     "text": [
      "0       two\n",
      "1       two\n",
      "2       two\n",
      "3      four\n",
      "4      four\n",
      "       ... \n",
      "200    four\n",
      "201    four\n",
      "202    four\n",
      "203    four\n",
      "204    four\n",
      "Name: num-of-doors, Length: 205, dtype: object\n",
      "Int64Index([27, 53, 63, 92, 95, 99, 145, 173], dtype='int64')\n"
     ]
    }
   ],
   "source": [
    "print(raw_data['num-of-doors'])\n",
    "print(raw_data[raw_data['num-of-doors'].isnull()].index)\n"
   ]
  },
  {
   "cell_type": "code",
   "execution_count": 43,
   "metadata": {},
   "outputs": [
    {
     "name": "stdout",
     "output_type": "stream",
     "text": [
      "0      2\n",
      "1      2\n",
      "2      2\n",
      "3      4\n",
      "4      4\n",
      "      ..\n",
      "200    4\n",
      "201    4\n",
      "202    4\n",
      "203    4\n",
      "204    4\n",
      "Name: num-of-doors, Length: 205, dtype: int64\n",
      "Int64Index([], dtype='int64')\n"
     ]
    }
   ],
   "source": [
    "raw_data['num-of-doors'].fillna('four',inplace=True)\n",
    "raw_data['num-of-doors']=raw_data['num-of-doors'].map({'two':2,'four':4})\n",
    "\n",
    "print(raw_data['num-of-doors'])\n",
    "print(raw_data[raw_data['num-of-doors'].isnull()].index)"
   ]
  },
  {
   "cell_type": "markdown",
   "metadata": {},
   "source": [
    "### Because most of the cars have four doors, so I decide to replace the null data with 'four'. \n",
    "### And then because it will be easier to use numeric value, so I map all the strings to numeric values.\n",
    "\n",
    "---\n",
    "### Then move on to 'curb-weight'."
   ]
  },
  {
   "cell_type": "code",
   "execution_count": 45,
   "metadata": {},
   "outputs": [
    {
     "name": "stdout",
     "output_type": "stream",
     "text": [
      "Max :  4066.0\n",
      "Min :  1488.0\n",
      "Medain : 2414.0\n",
      "Int64Index([1, 7, 10, 22, 55, 63, 70, 103, 123, 136, 141, 144, 190], dtype='int64')\n",
      "Int64Index([], dtype='int64')\n"
     ]
    }
   ],
   "source": [
    "print('Max : ',raw_data['curb-weight'].max())\n",
    "print('Min : ',raw_data['curb-weight'].min())\n",
    "print('Medain :',raw_data['curb-weight'].median())\n",
    "\n",
    "\n",
    "print(raw_data[raw_data['curb-weight'].isnull()].index)\n",
    "raw_data.fillna(raw_data['curb-weight'].median(),inplace=True)\n",
    "print(raw_data[raw_data['curb-weight'].isnull()].index)\n"
   ]
  },
  {
   "cell_type": "markdown",
   "metadata": {},
   "source": [
    "### In this part, because the differenc between the maximum and minimum is rahter large. So I choose to use the medain to replace the empty value instead of mean value.\n",
    "\n",
    "---\n",
    "### num-of-cylinder "
   ]
  },
  {
   "cell_type": "code",
   "execution_count": 39,
   "metadata": {},
   "outputs": [
    {
     "name": "stdout",
     "output_type": "stream",
     "text": [
      "four      156\n",
      "six        24\n",
      "five       10\n",
      "eight       5\n",
      "two         4\n",
      "three       1\n",
      "twelve      1\n",
      "Name: num-of-cylinders, dtype: int64\n",
      "Int64Index([9, 137, 144, 148], dtype='int64')\n",
      "Int64Index([], dtype='int64')\n"
     ]
    }
   ],
   "source": [
    "print(raw_data['num-of-cylinders'].value_counts())\n",
    "\n",
    "\n",
    "print(raw_data[raw_data['num-of-cylinders'].isnull()].index)\n",
    "raw_data['num-of-cylinders'].fillna('four',inplace=True)\n",
    "print(raw_data[raw_data['num-of-cylinders'].isnull()].index)\n"
   ]
  },
  {
   "cell_type": "markdown",
   "metadata": {},
   "source": [
    "### We can find that the major number of cylinders is still 4, so I replace the empty data with four.\n",
    "---\n",
    "### Bore and Stroke : \n",
    "### As for Bore and Stroke I choose to use mean value to replace the empty value."
   ]
  },
  {
   "cell_type": "code",
   "execution_count": 38,
   "metadata": {},
   "outputs": [
    {
     "name": "stdout",
     "output_type": "stream",
     "text": [
      "bore Int64Index([55, 56, 57, 58], dtype='int64')\n",
      "bore Int64Index([], dtype='int64')\n",
      "stroke Int64Index([55, 56, 57, 58], dtype='int64')\n",
      "stroke Int64Index([], dtype='int64')\n"
     ]
    }
   ],
   "source": [
    "clean_by_mean=['bore','stroke']\n",
    "\n",
    "for name in clean_by_mean:\n",
    "    print(name, raw_data[raw_data[name].isnull()].index)\n",
    "    raw_data[name].fillna((raw_data[name].astype(float)).mean(),inplace=True)\n",
    "    print(name, raw_data[raw_data[name].isnull()].index)\n",
    "\n"
   ]
  },
  {
   "cell_type": "markdown",
   "metadata": {},
   "source": [
    "### Horsepower and peak-rpm :\n",
    "### As for Horsepower and peak-rpm I choose to use mean value to replace the empty value."
   ]
  },
  {
   "cell_type": "code",
   "execution_count": 37,
   "metadata": {},
   "outputs": [
    {
     "name": "stdout",
     "output_type": "stream",
     "text": [
      "horsepower Int64Index([130, 131], dtype='int64')\n",
      "horsepower Int64Index([], dtype='int64')\n",
      "peak-rpm Int64Index([130, 131], dtype='int64')\n",
      "peak-rpm Int64Index([], dtype='int64')\n"
     ]
    }
   ],
   "source": [
    "clean_by_median=['horsepower','peak-rpm']\n",
    "\n",
    "\n",
    "for name in clean_by_median:\n",
    "    print(name, raw_data[raw_data[name].isnull()].index)\n",
    "    raw_data[name].fillna((raw_data[name]).median(),inplace=True)\n",
    "    print(name, raw_data[raw_data[name].isnull()].index)\n"
   ]
  },
  {
   "cell_type": "markdown",
   "metadata": {},
   "source": [
    "---\n",
    "### Price :\n",
    "### As for price, we can observe the range is also very wide, hence the median will be more suitable to represent. So I replace the empty data with the median value."
   ]
  },
  {
   "cell_type": "code",
   "execution_count": 36,
   "metadata": {},
   "outputs": [
    {
     "name": "stdout",
     "output_type": "stream",
     "text": [
      "Max :  45400\n",
      "Min :  5118\n",
      "Mean : : 13207.129353233831\n",
      "Median :  10295.0\n",
      "Int64Index([9, 44, 45, 129], dtype='int64')\n",
      "Int64Index([], dtype='int64')\n"
     ]
    }
   ],
   "source": [
    "a=raw_data[raw_data['price'].notnull()]\n",
    "b=a['price'].astype(int)\n",
    "print('Max : ',b.max())\n",
    "print('Min : ',b.min())\n",
    "print('Mean : :',b.mean())\n",
    "print('Median : ',b.median())\n",
    "\n",
    "print(raw_data[raw_data['price'].isnull()].index)\n",
    "raw_data['price'].fillna(b.median(),inplace=True)\n",
    "print(raw_data[raw_data['price'].isnull()].index)\n",
    "\n"
   ]
  },
  {
   "cell_type": "markdown",
   "metadata": {},
   "source": [
    "## Final check, there is no empty or null data in this dataset."
   ]
  },
  {
   "cell_type": "code",
   "execution_count": 46,
   "metadata": {},
   "outputs": [
    {
     "name": "stdout",
     "output_type": "stream",
     "text": [
      "symboling            0\n",
      "normalized-losses    0\n",
      "make                 0\n",
      "fuel-type            0\n",
      "aspiration           0\n",
      "num-of-doors         0\n",
      "body-style           0\n",
      "drive-wheels         0\n",
      "engine-location      0\n",
      "wheel-base           0\n",
      "length               0\n",
      "width                0\n",
      "height               0\n",
      "curb-weight          0\n",
      "engine-type          0\n",
      "num-of-cylinders     0\n",
      "engine-size          0\n",
      "fuel-system          0\n",
      "bore                 0\n",
      "stroke               0\n",
      "compression-ratio    0\n",
      "horsepower           0\n",
      "peak-rpm             0\n",
      "city-mpg             0\n",
      "highway-mpg          0\n",
      "price                0\n",
      "dtype: int64\n"
     ]
    }
   ],
   "source": [
    "print(raw_data.isnull().sum())"
   ]
  },
  {
   "cell_type": "code",
   "execution_count": null,
   "metadata": {},
   "outputs": [],
   "source": []
  }
 ],
 "metadata": {
  "kernelspec": {
   "display_name": "Python 3",
   "language": "python",
   "name": "python3"
  },
  "language_info": {
   "codemirror_mode": {
    "name": "ipython",
    "version": 3
   },
   "file_extension": ".py",
   "mimetype": "text/x-python",
   "name": "python",
   "nbconvert_exporter": "python",
   "pygments_lexer": "ipython3",
   "version": "3.6.8"
  }
 },
 "nbformat": 4,
 "nbformat_minor": 2
}
