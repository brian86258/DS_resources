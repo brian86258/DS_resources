{
 "cells": [
  {
   "cell_type": "code",
   "execution_count": 1,
   "metadata": {},
   "outputs": [
    {
     "data": {
      "text/html": [
       "        <script type=\"text/javascript\">\n",
       "        window.PlotlyConfig = {MathJaxConfig: 'local'};\n",
       "        if (window.MathJax) {MathJax.Hub.Config({SVG: {font: \"STIX-Web\"}});}\n",
       "        if (typeof require !== 'undefined') {\n",
       "        require.undef(\"plotly\");\n",
       "        requirejs.config({\n",
       "            paths: {\n",
       "                'plotly': ['https://cdn.plot.ly/plotly-latest.min']\n",
       "            }\n",
       "        });\n",
       "        require(['plotly'], function(Plotly) {\n",
       "            window._Plotly = Plotly;\n",
       "        });\n",
       "        }\n",
       "        </script>\n",
       "        "
      ]
     },
     "metadata": {},
     "output_type": "display_data"
    }
   ],
   "source": [
    "import pandas as pd\n",
    "import numpy as np\n",
    "import seaborn as sns\n",
    "import matplotlib.pyplot as plt\n",
    "from scipy import stats\n",
    "\n",
    "import plotly.tools as tls\n",
    "import plotly\n",
    "import plotly.offline as py\n",
    "from plotly.offline import init_notebook_mode, iplot, plot\n",
    "import plotly.graph_objs as go\n",
    "init_notebook_mode(connected=True)\n"
   ]
  },
  {
   "cell_type": "markdown",
   "metadata": {},
   "source": [
    "## Today, I will use my original dataset of the kickstarter projects. And I will utilize suh dataset and try to apply classifier model to predict it."
   ]
  },
  {
   "cell_type": "code",
   "execution_count": 29,
   "metadata": {},
   "outputs": [
    {
     "name": "stdout",
     "output_type": "stream",
     "text": [
      "Dataset Shape: (10000, 15)\n"
     ]
    },
    {
     "data": {
      "text/html": [
       "<div>\n",
       "<style scoped>\n",
       "    .dataframe tbody tr th:only-of-type {\n",
       "        vertical-align: middle;\n",
       "    }\n",
       "\n",
       "    .dataframe tbody tr th {\n",
       "        vertical-align: top;\n",
       "    }\n",
       "\n",
       "    .dataframe thead th {\n",
       "        text-align: right;\n",
       "    }\n",
       "</style>\n",
       "<table border=\"1\" class=\"dataframe\">\n",
       "  <thead>\n",
       "    <tr style=\"text-align: right;\">\n",
       "      <th></th>\n",
       "      <th>Name</th>\n",
       "      <th>dtypes</th>\n",
       "      <th>Missing</th>\n",
       "      <th>Uniques</th>\n",
       "      <th>First Value</th>\n",
       "      <th>Second Value</th>\n",
       "      <th>Third Value</th>\n",
       "      <th>Entropy</th>\n",
       "    </tr>\n",
       "  </thead>\n",
       "  <tbody>\n",
       "    <tr>\n",
       "      <td>0</td>\n",
       "      <td>ID</td>\n",
       "      <td>int64</td>\n",
       "      <td>0</td>\n",
       "      <td>10000</td>\n",
       "      <td>1576537356</td>\n",
       "      <td>675907016</td>\n",
       "      <td>361890770</td>\n",
       "      <td>13.29</td>\n",
       "    </tr>\n",
       "    <tr>\n",
       "      <td>1</td>\n",
       "      <td>name</td>\n",
       "      <td>object</td>\n",
       "      <td>0</td>\n",
       "      <td>9999</td>\n",
       "      <td>Deko</td>\n",
       "      <td>Westside BJ's: The Gluten-Free, Organic Food T...</td>\n",
       "      <td>Crepe Diem Food Truck</td>\n",
       "      <td>13.29</td>\n",
       "    </tr>\n",
       "    <tr>\n",
       "      <td>2</td>\n",
       "      <td>category</td>\n",
       "      <td>object</td>\n",
       "      <td>0</td>\n",
       "      <td>158</td>\n",
       "      <td>Hardware</td>\n",
       "      <td>Food Trucks</td>\n",
       "      <td>Food</td>\n",
       "      <td>6.24</td>\n",
       "    </tr>\n",
       "    <tr>\n",
       "      <td>3</td>\n",
       "      <td>main_category</td>\n",
       "      <td>object</td>\n",
       "      <td>0</td>\n",
       "      <td>15</td>\n",
       "      <td>Technology</td>\n",
       "      <td>Food</td>\n",
       "      <td>Food</td>\n",
       "      <td>3.57</td>\n",
       "    </tr>\n",
       "    <tr>\n",
       "      <td>4</td>\n",
       "      <td>currency</td>\n",
       "      <td>object</td>\n",
       "      <td>0</td>\n",
       "      <td>14</td>\n",
       "      <td>USD</td>\n",
       "      <td>USD</td>\n",
       "      <td>USD</td>\n",
       "      <td>1.27</td>\n",
       "    </tr>\n",
       "    <tr>\n",
       "      <td>5</td>\n",
       "      <td>deadline</td>\n",
       "      <td>object</td>\n",
       "      <td>0</td>\n",
       "      <td>2617</td>\n",
       "      <td>2015-10-24</td>\n",
       "      <td>2015-02-01</td>\n",
       "      <td>2014-01-17</td>\n",
       "      <td>11.06</td>\n",
       "    </tr>\n",
       "    <tr>\n",
       "      <td>6</td>\n",
       "      <td>goal</td>\n",
       "      <td>float64</td>\n",
       "      <td>0</td>\n",
       "      <td>779</td>\n",
       "      <td>70000</td>\n",
       "      <td>250000</td>\n",
       "      <td>30000</td>\n",
       "      <td>6.50</td>\n",
       "    </tr>\n",
       "    <tr>\n",
       "      <td>7</td>\n",
       "      <td>launched</td>\n",
       "      <td>object</td>\n",
       "      <td>0</td>\n",
       "      <td>10000</td>\n",
       "      <td>2015-09-24 03:12:52</td>\n",
       "      <td>2015-01-02 20:55:07</td>\n",
       "      <td>2013-12-18 03:26:04</td>\n",
       "      <td>13.29</td>\n",
       "    </tr>\n",
       "    <tr>\n",
       "      <td>8</td>\n",
       "      <td>pledged</td>\n",
       "      <td>float64</td>\n",
       "      <td>0</td>\n",
       "      <td>4601</td>\n",
       "      <td>1888</td>\n",
       "      <td>1466</td>\n",
       "      <td>5723</td>\n",
       "      <td>10.16</td>\n",
       "    </tr>\n",
       "    <tr>\n",
       "      <td>9</td>\n",
       "      <td>state</td>\n",
       "      <td>object</td>\n",
       "      <td>0</td>\n",
       "      <td>6</td>\n",
       "      <td>failed</td>\n",
       "      <td>failed</td>\n",
       "      <td>failed</td>\n",
       "      <td>1.52</td>\n",
       "    </tr>\n",
       "    <tr>\n",
       "      <td>10</td>\n",
       "      <td>backers</td>\n",
       "      <td>int64</td>\n",
       "      <td>0</td>\n",
       "      <td>718</td>\n",
       "      <td>41</td>\n",
       "      <td>9</td>\n",
       "      <td>90</td>\n",
       "      <td>6.52</td>\n",
       "    </tr>\n",
       "    <tr>\n",
       "      <td>11</td>\n",
       "      <td>country</td>\n",
       "      <td>object</td>\n",
       "      <td>0</td>\n",
       "      <td>23</td>\n",
       "      <td>US</td>\n",
       "      <td>US</td>\n",
       "      <td>US</td>\n",
       "      <td>1.47</td>\n",
       "    </tr>\n",
       "    <tr>\n",
       "      <td>12</td>\n",
       "      <td>usd pledged</td>\n",
       "      <td>float64</td>\n",
       "      <td>105</td>\n",
       "      <td>5165</td>\n",
       "      <td>1888</td>\n",
       "      <td>1466</td>\n",
       "      <td>5723</td>\n",
       "      <td>10.16</td>\n",
       "    </tr>\n",
       "    <tr>\n",
       "      <td>13</td>\n",
       "      <td>usd_pledged_real</td>\n",
       "      <td>float64</td>\n",
       "      <td>0</td>\n",
       "      <td>5660</td>\n",
       "      <td>1888</td>\n",
       "      <td>1466</td>\n",
       "      <td>5723</td>\n",
       "      <td>10.67</td>\n",
       "    </tr>\n",
       "    <tr>\n",
       "      <td>14</td>\n",
       "      <td>usd_goal_real</td>\n",
       "      <td>float64</td>\n",
       "      <td>0</td>\n",
       "      <td>2769</td>\n",
       "      <td>70000</td>\n",
       "      <td>250000</td>\n",
       "      <td>30000</td>\n",
       "      <td>8.19</td>\n",
       "    </tr>\n",
       "  </tbody>\n",
       "</table>\n",
       "</div>"
      ],
      "text/plain": [
       "                Name   dtypes  Missing  Uniques          First Value  \\\n",
       "0                 ID    int64        0    10000           1576537356   \n",
       "1               name   object        0     9999                 Deko   \n",
       "2           category   object        0      158             Hardware   \n",
       "3      main_category   object        0       15           Technology   \n",
       "4           currency   object        0       14                  USD   \n",
       "5           deadline   object        0     2617           2015-10-24   \n",
       "6               goal  float64        0      779                70000   \n",
       "7           launched   object        0    10000  2015-09-24 03:12:52   \n",
       "8            pledged  float64        0     4601                 1888   \n",
       "9              state   object        0        6               failed   \n",
       "10           backers    int64        0      718                   41   \n",
       "11           country   object        0       23                   US   \n",
       "12       usd pledged  float64      105     5165                 1888   \n",
       "13  usd_pledged_real  float64        0     5660                 1888   \n",
       "14     usd_goal_real  float64        0     2769                70000   \n",
       "\n",
       "                                         Second Value            Third Value  \\\n",
       "0                                           675907016              361890770   \n",
       "1   Westside BJ's: The Gluten-Free, Organic Food T...  Crepe Diem Food Truck   \n",
       "2                                         Food Trucks                   Food   \n",
       "3                                                Food                   Food   \n",
       "4                                                 USD                    USD   \n",
       "5                                          2015-02-01             2014-01-17   \n",
       "6                                              250000                  30000   \n",
       "7                                 2015-01-02 20:55:07    2013-12-18 03:26:04   \n",
       "8                                                1466                   5723   \n",
       "9                                              failed                 failed   \n",
       "10                                                  9                     90   \n",
       "11                                                 US                     US   \n",
       "12                                               1466                   5723   \n",
       "13                                               1466                   5723   \n",
       "14                                             250000                  30000   \n",
       "\n",
       "    Entropy  \n",
       "0     13.29  \n",
       "1     13.29  \n",
       "2      6.24  \n",
       "3      3.57  \n",
       "4      1.27  \n",
       "5     11.06  \n",
       "6      6.50  \n",
       "7     13.29  \n",
       "8     10.16  \n",
       "9      1.52  \n",
       "10     6.52  \n",
       "11     1.47  \n",
       "12    10.16  \n",
       "13    10.67  \n",
       "14     8.19  "
      ]
     },
     "execution_count": 29,
     "metadata": {},
     "output_type": "execute_result"
    }
   ],
   "source": [
    "df_kick=pd.read_csv(\"./ks-projects.csv\")\n",
    "df_kick=df_kick.sample(10000,random_state=42).reset_index().drop('index',axis=1)\n",
    "\n",
    "def resumetable(df):\n",
    "    print(f\"Dataset Shape: {df.shape}\")\n",
    "    summary = pd.DataFrame(df.dtypes,columns=['dtypes'])\n",
    "    summary = summary.reset_index()\n",
    "    summary['Name'] = summary['index']\n",
    "    summary = summary[['Name','dtypes']]\n",
    "    summary['Missing'] = df.isnull().sum().values    \n",
    "    summary['Uniques'] = df.nunique().values    \n",
    "    summary['First Value'] = df.loc[0].values\n",
    "    summary['Second Value'] = df.loc[1].values\n",
    "    summary['Third Value'] = df.loc[2].values\n",
    "    \n",
    "    for name in summary['Name'].value_counts().index:\n",
    "        summary.loc[summary['Name'] == name, 'Entropy'] = round(stats.entropy(df[name].value_counts(normalize=True), base=2),2) \n",
    "\n",
    "    return summary\n",
    "\n",
    "resumetable(df_kick)"
   ]
  },
  {
   "cell_type": "markdown",
   "metadata": {},
   "source": [
    "## Importin ML needed libraries"
   ]
  },
  {
   "cell_type": "code",
   "execution_count": 18,
   "metadata": {},
   "outputs": [],
   "source": [
    "from sklearn.model_selection import train_test_split\n",
    "from sklearn.preprocessing import minmax_scale\n",
    "\n",
    "#Importing the auxiliar and preprocessing librarys \n",
    "from sklearn.metrics import accuracy_score, confusion_matrix, classification_report\n",
    "from sklearn.model_selection import cross_val_score\n",
    "from sklearn.preprocessing import LabelEncoder, StandardScaler\n",
    "from sklearn.pipeline import Pipeline\n",
    "\n",
    "from sklearn.model_selection import train_test_split, KFold, cross_validate\n",
    "from sklearn.metrics import accuracy_score\n",
    "\n",
    "from sklearn.cluster import KMeans\n",
    "from sklearn.decomposition import PCA\n",
    "from sklearn.svm import SVC\n",
    "from sklearn.linear_model import RidgeClassifier, SGDClassifier, LogisticRegression\n",
    "from sklearn.svm import SVC, LinearSVC\n",
    "from sklearn.neighbors import KNeighborsClassifier\n",
    "from sklearn.tree import DecisionTreeClassifier\n",
    "# from xgboost import XGBClassifier\n",
    "from sklearn.naive_bayes import MultinomialNB\n",
    "from sklearn.feature_selection import SelectFromModel\n",
    "from sklearn.ensemble import RandomForestClassifier, GradientBoostingClassifier, ExtraTreesClassifier, BaggingClassifier, VotingClassifier, RandomTreesEmbedding"
   ]
  },
  {
   "cell_type": "code",
   "execution_count": 30,
   "metadata": {},
   "outputs": [],
   "source": [
    "df_kick.loc[df_kick.state.isin(['suspended', 'canceled','live']), 'state'] = 'failed'\n"
   ]
  },
  {
   "cell_type": "code",
   "execution_count": 31,
   "metadata": {},
   "outputs": [
    {
     "name": "stdout",
     "output_type": "stream",
     "text": [
      "failed        6297\n",
      "successful    3602\n",
      "Name: state, dtype: int64\n"
     ]
    }
   ],
   "source": [
    "df_kick = df_kick.loc[df_kick['state'].isin(['failed','successful'])]\n",
    "print(df_kick.state.value_counts())"
   ]
  },
  {
   "cell_type": "markdown",
   "metadata": {},
   "source": [
    "## Encoding state"
   ]
  },
  {
   "cell_type": "code",
   "execution_count": 32,
   "metadata": {},
   "outputs": [],
   "source": [
    "targ_dict = {'failed': 0,\n",
    "             'successful': 1 \n",
    "            }\n",
    "\n",
    "df_kick['state'] = df_kick['state'].map(targ_dict)\n"
   ]
  },
  {
   "cell_type": "markdown",
   "metadata": {},
   "source": [
    "## Dealing with date"
   ]
  },
  {
   "cell_type": "code",
   "execution_count": 33,
   "metadata": {},
   "outputs": [],
   "source": [
    "df_kick['launched'] = pd.to_datetime(df_kick['launched'])\n",
    "df_kick['launched_date'] = df_kick['launched'].dt.date\n",
    "\n",
    "df_kick['deadline'] = pd.to_datetime(df_kick['deadline'])\n",
    "df_kick['deadline_date'] = df_kick['deadline'].dt.date\n",
    "\n",
    "#Creating a new columns with Campaign total months\n",
    "df_kick['time_campaign_d'] = (df_kick['deadline_date'] - df_kick['launched_date']).dt.days\n",
    "df_kick['time_campaign_d'] = df_kick['time_campaign_d'].astype(int)\n",
    "\n",
    "#removing outlier value\n",
    "df_kick = df_kick[df_kick['time_campaign_d'] != 14867]"
   ]
  },
  {
   "cell_type": "code",
   "execution_count": 35,
   "metadata": {},
   "outputs": [],
   "source": [
    "to_drop = ['ID', 'name', 'deadline', 'pledged', 'backers', 'goal',\n",
    "            'usd pledged', 'usd_pledged_real','launched_date', 'deadline_date']\n",
    "df_kick.drop(to_drop,axis=1,inplace=True)"
   ]
  },
  {
   "cell_type": "code",
   "execution_count": 36,
   "metadata": {},
   "outputs": [
    {
     "data": {
      "text/html": [
       "<div>\n",
       "<style scoped>\n",
       "    .dataframe tbody tr th:only-of-type {\n",
       "        vertical-align: middle;\n",
       "    }\n",
       "\n",
       "    .dataframe tbody tr th {\n",
       "        vertical-align: top;\n",
       "    }\n",
       "\n",
       "    .dataframe thead th {\n",
       "        text-align: right;\n",
       "    }\n",
       "</style>\n",
       "<table border=\"1\" class=\"dataframe\">\n",
       "  <thead>\n",
       "    <tr style=\"text-align: right;\">\n",
       "      <th></th>\n",
       "      <th>category</th>\n",
       "      <th>main_category</th>\n",
       "      <th>currency</th>\n",
       "      <th>launched</th>\n",
       "      <th>state</th>\n",
       "      <th>country</th>\n",
       "      <th>usd_goal_real</th>\n",
       "      <th>time_campaign_d</th>\n",
       "    </tr>\n",
       "  </thead>\n",
       "  <tbody>\n",
       "    <tr>\n",
       "      <td>0</td>\n",
       "      <td>Hardware</td>\n",
       "      <td>Technology</td>\n",
       "      <td>USD</td>\n",
       "      <td>2015-09-24 03:12:52</td>\n",
       "      <td>0</td>\n",
       "      <td>US</td>\n",
       "      <td>70000.00</td>\n",
       "      <td>30</td>\n",
       "    </tr>\n",
       "    <tr>\n",
       "      <td>1</td>\n",
       "      <td>Food Trucks</td>\n",
       "      <td>Food</td>\n",
       "      <td>USD</td>\n",
       "      <td>2015-01-02 20:55:07</td>\n",
       "      <td>0</td>\n",
       "      <td>US</td>\n",
       "      <td>250000.00</td>\n",
       "      <td>30</td>\n",
       "    </tr>\n",
       "    <tr>\n",
       "      <td>2</td>\n",
       "      <td>Food</td>\n",
       "      <td>Food</td>\n",
       "      <td>USD</td>\n",
       "      <td>2013-12-18 03:26:04</td>\n",
       "      <td>0</td>\n",
       "      <td>US</td>\n",
       "      <td>30000.00</td>\n",
       "      <td>30</td>\n",
       "    </tr>\n",
       "    <tr>\n",
       "      <td>3</td>\n",
       "      <td>Fiction</td>\n",
       "      <td>Publishing</td>\n",
       "      <td>GBP</td>\n",
       "      <td>2016-10-24 15:44:36</td>\n",
       "      <td>0</td>\n",
       "      <td>GB</td>\n",
       "      <td>6839.01</td>\n",
       "      <td>30</td>\n",
       "    </tr>\n",
       "    <tr>\n",
       "      <td>4</td>\n",
       "      <td>Restaurants</td>\n",
       "      <td>Food</td>\n",
       "      <td>USD</td>\n",
       "      <td>2015-03-14 05:18:34</td>\n",
       "      <td>0</td>\n",
       "      <td>US</td>\n",
       "      <td>30000.00</td>\n",
       "      <td>60</td>\n",
       "    </tr>\n",
       "  </tbody>\n",
       "</table>\n",
       "</div>"
      ],
      "text/plain": [
       "      category main_category currency            launched  state country  \\\n",
       "0     Hardware    Technology      USD 2015-09-24 03:12:52      0      US   \n",
       "1  Food Trucks          Food      USD 2015-01-02 20:55:07      0      US   \n",
       "2         Food          Food      USD 2013-12-18 03:26:04      0      US   \n",
       "3      Fiction    Publishing      GBP 2016-10-24 15:44:36      0      GB   \n",
       "4  Restaurants          Food      USD 2015-03-14 05:18:34      0      US   \n",
       "\n",
       "   usd_goal_real  time_campaign_d  \n",
       "0       70000.00               30  \n",
       "1      250000.00               30  \n",
       "2       30000.00               30  \n",
       "3        6839.01               30  \n",
       "4       30000.00               60  "
      ]
     },
     "execution_count": 36,
     "metadata": {},
     "output_type": "execute_result"
    }
   ],
   "source": [
    "df_kick.head()"
   ]
  },
  {
   "cell_type": "code",
   "execution_count": 37,
   "metadata": {},
   "outputs": [
    {
     "name": "stdout",
     "output_type": "stream",
     "text": [
      "Shape before dummy transformation: (9899, 11)\n",
      "Shape after dummy transformation: (9899, 213)\n"
     ]
    }
   ],
   "source": [
    "df_kick = df_kick.assign(hour=df_kick.launched.dt.hour,\n",
    "                         day=df_kick.launched.dt.day,          \n",
    "                         month=df_kick.launched.dt.month,\n",
    "                         year=df_kick.launched.dt.year).drop('launched', axis=1)\n",
    "print(f'Shape before dummy transformation: {df_kick.shape}')\n",
    "df_kick = pd.get_dummies(df_kick, columns=['category', 'main_category', 'currency', 'country'],\\\n",
    "                          prefix=['cat', 'main_cat', 'currency', 'country'], drop_first=True)\n",
    "\n",
    "print(f'Shape after dummy transformation: {df_kick.shape}')"
   ]
  },
  {
   "cell_type": "markdown",
   "metadata": {},
   "source": [
    "## MinMax Scaler¶\n"
   ]
  },
  {
   "cell_type": "code",
   "execution_count": null,
   "metadata": {},
   "outputs": [],
   "source": [
    "num_cols = ['usd_goal_real', 'time_campaign_d']\n",
    "\n",
    "for col in num_cols:\n",
    "    df_kick[col] = (minmax_scale(df_kick[col], feature_range=(0,1)))"
   ]
  },
  {
   "cell_type": "code",
   "execution_count": 40,
   "metadata": {},
   "outputs": [],
   "source": [
    "X_train, X_test, y_train, y_test = train_test_split(df_kick.drop('state', axis=1), df_kick['state'], \n",
    "                                                    test_size=.20, random_state=42)\n"
   ]
  },
  {
   "cell_type": "code",
   "execution_count": 41,
   "metadata": {},
   "outputs": [
    {
     "name": "stdout",
     "output_type": "stream",
     "text": [
      "Shape train: (7919, 212)\n",
      "Shape test: (1980, 212)\n"
     ]
    }
   ],
   "source": [
    "print(f'Shape train: {X_train.shape}')\n",
    "print(f'Shape test: {X_test.shape}')"
   ]
  },
  {
   "cell_type": "code",
   "execution_count": 53,
   "metadata": {},
   "outputs": [],
   "source": [
    "clfs = []\n",
    "seed = 3\n",
    "\n",
    "clfs.append(('LogReg',\n",
    "             Pipeline([(\"Scalar\", StandardScaler()),\n",
    "                        (\"LogReg\", LogisticRegression(n_jobs=-1, random_state=42))\n",
    "                        ])))\n",
    "clfs.append((\"KNN\", \n",
    "            Pipeline([(\"Scaler\", StandardScaler()),\n",
    "                      (\"KNN\", KNeighborsClassifier(n_jobs=-1))]))) \n",
    "\n",
    "\n",
    "clfs.append((\"DecisionTreeClassifier\", \n",
    "             Pipeline([(\"Scaler\", StandardScaler()),\n",
    "                       (\"DecisionTrees\", DecisionTreeClassifier(random_state=42))]))) \n",
    "\n",
    "clfs.append((\"RandomForestClassifier\", \n",
    "             Pipeline([(\"Scaler\", StandardScaler()),\n",
    "                       (\"RandomForest\", RandomForestClassifier(n_estimators=200, n_jobs=-1, \n",
    "                                                               random_state=42))]))) \n",
    "\n",
    "clfs.append((\"GradientBoostingClassifier\", \n",
    "             Pipeline([(\"Scaler\", StandardScaler()),\n",
    "                       (\"GradientBoosting\", GradientBoostingClassifier(n_estimators=200,\n",
    "                                                                       random_state=42))]))) \n",
    "\n",
    "clfs.append((\"RidgeClassifier\", \n",
    "             Pipeline([(\"Scaler\", StandardScaler()),\n",
    "                       (\"RidgeClassifier\", RidgeClassifier(random_state=42))])))\n",
    "\n",
    "clfs.append((\"BaggingRidgeClassifier\",\n",
    "             Pipeline([(\"Scaler\", StandardScaler()),\n",
    "                       (\"BaggingClassifier\", BaggingClassifier(n_jobs=-1, random_state=42))])))\n",
    "\n",
    "clfs.append((\"ExtraTreesClassifier\",\n",
    "             Pipeline([(\"Scaler\", StandardScaler()),\n",
    "                       (\"ExtraTrees\", ExtraTreesClassifier(n_jobs=-1, random_state=42))])))\n"
   ]
  },
  {
   "cell_type": "markdown",
   "metadata": {},
   "source": [
    "## Following is the roc_auc score of all the classifier"
   ]
  },
  {
   "cell_type": "code",
   "execution_count": 54,
   "metadata": {},
   "outputs": [
    {
     "name": "stdout",
     "output_type": "stream",
     "text": [
      "LogReg: 0.680471 (+/- 0.007900)\n",
      "KNN: 0.603801 (+/- 0.013365)\n",
      "DecisionTreeClassifier: 0.576319 (+/- 0.011532)\n",
      "RandomForestClassifier: 0.705844 (+/- 0.008732)\n",
      "GradientBoostingClassifier: 0.724583 (+/- 0.006805)\n",
      "RidgeClassifier: 0.657799 (+/- 0.009037)\n",
      "BaggingRidgeClassifier: 0.656814 (+/- 0.012739)\n",
      "ExtraTreesClassifier: 0.639005 (+/- 0.009557)\n"
     ]
    }
   ],
   "source": [
    "scoring = 'roc_auc'\n",
    "n_folds = 5\n",
    "results, names  = [], [] \n",
    "\n",
    "\n",
    "for name, model  in clfs:\n",
    "    kfold = KFold(n_splits=n_folds, random_state=seed)\n",
    "    cv_results = cross_val_score(model, X_train, y_train, \n",
    "                                 cv= n_folds, scoring=scoring,\n",
    "                                 n_jobs=-1)    \n",
    "    names.append(name)\n",
    "    results.append(cv_results)    \n",
    "    msg = \"%s: %f (+/- %f)\" % (name, cv_results.mean(),  cv_results.std())\n",
    "    print(msg)"
   ]
  },
  {
   "cell_type": "markdown",
   "metadata": {},
   "source": [
    "****\n",
    "## We visualize the performance of all the classifier"
   ]
  },
  {
   "cell_type": "code",
   "execution_count": 55,
   "metadata": {},
   "outputs": [
    {
     "data": {
      "image/png": "[encoded data removed]",
      "text/plain": [
       "<Figure size 1080x432 with 1 Axes>"
      ]
     },
     "metadata": {
      "needs_background": "light"
     },
     "output_type": "display_data"
    }
   ],
   "source": [
    "fig = plt.figure(figsize=(15,6))\n",
    "fig.suptitle('Classifier Algorithm Comparison', fontsize=22)\n",
    "ax = fig.add_subplot(111)\n",
    "sns.boxplot(x=names, y=results)\n",
    "ax.set_xticklabels(names)\n",
    "ax.set_xlabel(\"Algorithmn\", fontsize=20)\n",
    "ax.set_ylabel(\"Accuracy of Models\", fontsize=18)\n",
    "ax.set_xticklabels(ax.get_xticklabels(),rotation=45)\n",
    "\n",
    "plt.show()"
   ]
  },
  {
   "cell_type": "code",
   "execution_count": 56,
   "metadata": {},
   "outputs": [],
   "source": [
    "from sklearn.metrics import roc_auc_score\n",
    "def get_models_score(model, X, y, X_val, y_val):\n",
    "    # Using the model in X_train and y_train desired\n",
    "    model.fit(X, y)\n",
    "    \n",
    "    # Predicting our validation test\n",
    "    y_pred = model.predict_proba(X_val)[:,1]\n",
    "    score = roc_auc_score(y_val, y_pred)\n",
    "    \n",
    "    return score, y_pred"
   ]
  },
  {
   "cell_type": "code",
   "execution_count": 59,
   "metadata": {},
   "outputs": [
    {
     "name": "stdout",
     "output_type": "stream",
     "text": [
      "Score of: 0.7410131765528873 \n",
      "\n"
     ]
    }
   ],
   "source": [
    "gb_clf = GradientBoostingClassifier(n_estimators=500, random_state=42) \n",
    "\n",
    "score, pred = get_models_score(gb_clf, X_train, y_train,\n",
    "                                X_test, y_test)\n",
    "\n",
    "print(f'Score of: {score} \\n')\n",
    "# print(pred)"
   ]
  },
  {
   "cell_type": "markdown",
   "metadata": {},
   "source": [
    "## Among all classfier model, we can see that the decision tree classifier and the KNN classifier has the worst performance.\n",
    "## In contrast, the Gradient Boosting Classifier and the Random Forest Classifier has the best performance. And the ROC_AUC score of the Gradient Boosting Classifier is 0.741\n",
    "\n",
    "## And such difference may due to the distribution of the data is more non-linear, and using decision tree and KNN is harder is distinguish the data\n",
    "\n",
    "\n",
    "\n"
   ]
  },
  {
   "cell_type": "code",
   "execution_count": null,
   "metadata": {},
   "outputs": [],
   "source": []
  }
 ],
 "metadata": {
  "kernelspec": {
   "display_name": "Python 3",
   "language": "python",
   "name": "python3"
  },
  "language_info": {
   "codemirror_mode": {
    "name": "ipython",
    "version": 3
   },
   "file_extension": ".py",
   "mimetype": "text/x-python",
   "name": "python",
   "nbconvert_exporter": "python",
   "pygments_lexer": "ipython3",
   "version": "3.6.8"
  }
 },
 "nbformat": 4,
 "nbformat_minor": 2
}
